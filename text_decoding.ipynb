{
  "nbformat": 4,
  "nbformat_minor": 0,
  "metadata": {
    "colab": {
      "provenance": [],
      "gpuType": "T4"
    },
    "kernelspec": {
      "name": "python3",
      "display_name": "Python 3"
    },
    "accelerator": "GPU",
    "widgets": {
      "application/vnd.jupyter.widget-state+json": {
        "5ece3b77d837436ba293558793fb8b7e": {
          "model_module": "@jupyter-widgets/controls",
          "model_name": "HBoxModel",
          "model_module_version": "1.5.0",
          "state": {
            "_dom_classes": [],
            "_model_module": "@jupyter-widgets/controls",
            "_model_module_version": "1.5.0",
            "_model_name": "HBoxModel",
            "_view_count": null,
            "_view_module": "@jupyter-widgets/controls",
            "_view_module_version": "1.5.0",
            "_view_name": "HBoxView",
            "box_style": "",
            "children": [
              "IPY_MODEL_a3a9079a685c44a6bc302a52ec899868",
              "IPY_MODEL_8b3f277725894bf48c34fbc45fd6171d",
              "IPY_MODEL_c0ee7d0c103645b5ad2740d486c7aa7a"
            ],
            "layout": "IPY_MODEL_67a98d4c8bdc45fc8311f675d31b53cd"
          }
        },
        "a3a9079a685c44a6bc302a52ec899868": {
          "model_module": "@jupyter-widgets/controls",
          "model_name": "HTMLModel",
          "model_module_version": "1.5.0",
          "state": {
            "_dom_classes": [],
            "_model_module": "@jupyter-widgets/controls",
            "_model_module_version": "1.5.0",
            "_model_name": "HTMLModel",
            "_view_count": null,
            "_view_module": "@jupyter-widgets/controls",
            "_view_module_version": "1.5.0",
            "_view_name": "HTMLView",
            "description": "",
            "description_tooltip": null,
            "layout": "IPY_MODEL_aaadd6c6506a4d2d918836cb323d70f2",
            "placeholder": "​",
            "style": "IPY_MODEL_8fb2344f9d784b33b8c97dad3265ac87",
            "value": "Downloading: 100%"
          }
        },
        "8b3f277725894bf48c34fbc45fd6171d": {
          "model_module": "@jupyter-widgets/controls",
          "model_name": "FloatProgressModel",
          "model_module_version": "1.5.0",
          "state": {
            "_dom_classes": [],
            "_model_module": "@jupyter-widgets/controls",
            "_model_module_version": "1.5.0",
            "_model_name": "FloatProgressModel",
            "_view_count": null,
            "_view_module": "@jupyter-widgets/controls",
            "_view_module_version": "1.5.0",
            "_view_name": "ProgressView",
            "bar_style": "success",
            "description": "",
            "description_tooltip": null,
            "layout": "IPY_MODEL_5807f227afd1407882a5406b0265ec40",
            "max": 1042301,
            "min": 0,
            "orientation": "horizontal",
            "style": "IPY_MODEL_65c64cd4890c4bc4af41487c0a23eff0",
            "value": 1042301
          }
        },
        "c0ee7d0c103645b5ad2740d486c7aa7a": {
          "model_module": "@jupyter-widgets/controls",
          "model_name": "HTMLModel",
          "model_module_version": "1.5.0",
          "state": {
            "_dom_classes": [],
            "_model_module": "@jupyter-widgets/controls",
            "_model_module_version": "1.5.0",
            "_model_name": "HTMLModel",
            "_view_count": null,
            "_view_module": "@jupyter-widgets/controls",
            "_view_module_version": "1.5.0",
            "_view_name": "HTMLView",
            "description": "",
            "description_tooltip": null,
            "layout": "IPY_MODEL_76d0a2db964b4d6ebd8fe2b1b8d37017",
            "placeholder": "​",
            "style": "IPY_MODEL_2bbf9eeee8274b8b9c6e08cca27dfe1c",
            "value": " 0.99M/0.99M [00:00&lt;00:00, 13.7MB/s]"
          }
        },
        "67a98d4c8bdc45fc8311f675d31b53cd": {
          "model_module": "@jupyter-widgets/base",
          "model_name": "LayoutModel",
          "model_module_version": "1.2.0",
          "state": {
            "_model_module": "@jupyter-widgets/base",
            "_model_module_version": "1.2.0",
            "_model_name": "LayoutModel",
            "_view_count": null,
            "_view_module": "@jupyter-widgets/base",
            "_view_module_version": "1.2.0",
            "_view_name": "LayoutView",
            "align_content": null,
            "align_items": null,
            "align_self": null,
            "border": null,
            "bottom": null,
            "display": null,
            "flex": null,
            "flex_flow": null,
            "grid_area": null,
            "grid_auto_columns": null,
            "grid_auto_flow": null,
            "grid_auto_rows": null,
            "grid_column": null,
            "grid_gap": null,
            "grid_row": null,
            "grid_template_areas": null,
            "grid_template_columns": null,
            "grid_template_rows": null,
            "height": null,
            "justify_content": null,
            "justify_items": null,
            "left": null,
            "margin": null,
            "max_height": null,
            "max_width": null,
            "min_height": null,
            "min_width": null,
            "object_fit": null,
            "object_position": null,
            "order": null,
            "overflow": null,
            "overflow_x": null,
            "overflow_y": null,
            "padding": null,
            "right": null,
            "top": null,
            "visibility": null,
            "width": null
          }
        },
        "aaadd6c6506a4d2d918836cb323d70f2": {
          "model_module": "@jupyter-widgets/base",
          "model_name": "LayoutModel",
          "model_module_version": "1.2.0",
          "state": {
            "_model_module": "@jupyter-widgets/base",
            "_model_module_version": "1.2.0",
            "_model_name": "LayoutModel",
            "_view_count": null,
            "_view_module": "@jupyter-widgets/base",
            "_view_module_version": "1.2.0",
            "_view_name": "LayoutView",
            "align_content": null,
            "align_items": null,
            "align_self": null,
            "border": null,
            "bottom": null,
            "display": null,
            "flex": null,
            "flex_flow": null,
            "grid_area": null,
            "grid_auto_columns": null,
            "grid_auto_flow": null,
            "grid_auto_rows": null,
            "grid_column": null,
            "grid_gap": null,
            "grid_row": null,
            "grid_template_areas": null,
            "grid_template_columns": null,
            "grid_template_rows": null,
            "height": null,
            "justify_content": null,
            "justify_items": null,
            "left": null,
            "margin": null,
            "max_height": null,
            "max_width": null,
            "min_height": null,
            "min_width": null,
            "object_fit": null,
            "object_position": null,
            "order": null,
            "overflow": null,
            "overflow_x": null,
            "overflow_y": null,
            "padding": null,
            "right": null,
            "top": null,
            "visibility": null,
            "width": null
          }
        },
        "8fb2344f9d784b33b8c97dad3265ac87": {
          "model_module": "@jupyter-widgets/controls",
          "model_name": "DescriptionStyleModel",
          "model_module_version": "1.5.0",
          "state": {
            "_model_module": "@jupyter-widgets/controls",
            "_model_module_version": "1.5.0",
            "_model_name": "DescriptionStyleModel",
            "_view_count": null,
            "_view_module": "@jupyter-widgets/base",
            "_view_module_version": "1.2.0",
            "_view_name": "StyleView",
            "description_width": ""
          }
        },
        "5807f227afd1407882a5406b0265ec40": {
          "model_module": "@jupyter-widgets/base",
          "model_name": "LayoutModel",
          "model_module_version": "1.2.0",
          "state": {
            "_model_module": "@jupyter-widgets/base",
            "_model_module_version": "1.2.0",
            "_model_name": "LayoutModel",
            "_view_count": null,
            "_view_module": "@jupyter-widgets/base",
            "_view_module_version": "1.2.0",
            "_view_name": "LayoutView",
            "align_content": null,
            "align_items": null,
            "align_self": null,
            "border": null,
            "bottom": null,
            "display": null,
            "flex": null,
            "flex_flow": null,
            "grid_area": null,
            "grid_auto_columns": null,
            "grid_auto_flow": null,
            "grid_auto_rows": null,
            "grid_column": null,
            "grid_gap": null,
            "grid_row": null,
            "grid_template_areas": null,
            "grid_template_columns": null,
            "grid_template_rows": null,
            "height": null,
            "justify_content": null,
            "justify_items": null,
            "left": null,
            "margin": null,
            "max_height": null,
            "max_width": null,
            "min_height": null,
            "min_width": null,
            "object_fit": null,
            "object_position": null,
            "order": null,
            "overflow": null,
            "overflow_x": null,
            "overflow_y": null,
            "padding": null,
            "right": null,
            "top": null,
            "visibility": null,
            "width": null
          }
        },
        "65c64cd4890c4bc4af41487c0a23eff0": {
          "model_module": "@jupyter-widgets/controls",
          "model_name": "ProgressStyleModel",
          "model_module_version": "1.5.0",
          "state": {
            "_model_module": "@jupyter-widgets/controls",
            "_model_module_version": "1.5.0",
            "_model_name": "ProgressStyleModel",
            "_view_count": null,
            "_view_module": "@jupyter-widgets/base",
            "_view_module_version": "1.2.0",
            "_view_name": "StyleView",
            "bar_color": null,
            "description_width": ""
          }
        },
        "76d0a2db964b4d6ebd8fe2b1b8d37017": {
          "model_module": "@jupyter-widgets/base",
          "model_name": "LayoutModel",
          "model_module_version": "1.2.0",
          "state": {
            "_model_module": "@jupyter-widgets/base",
            "_model_module_version": "1.2.0",
            "_model_name": "LayoutModel",
            "_view_count": null,
            "_view_module": "@jupyter-widgets/base",
            "_view_module_version": "1.2.0",
            "_view_name": "LayoutView",
            "align_content": null,
            "align_items": null,
            "align_self": null,
            "border": null,
            "bottom": null,
            "display": null,
            "flex": null,
            "flex_flow": null,
            "grid_area": null,
            "grid_auto_columns": null,
            "grid_auto_flow": null,
            "grid_auto_rows": null,
            "grid_column": null,
            "grid_gap": null,
            "grid_row": null,
            "grid_template_areas": null,
            "grid_template_columns": null,
            "grid_template_rows": null,
            "height": null,
            "justify_content": null,
            "justify_items": null,
            "left": null,
            "margin": null,
            "max_height": null,
            "max_width": null,
            "min_height": null,
            "min_width": null,
            "object_fit": null,
            "object_position": null,
            "order": null,
            "overflow": null,
            "overflow_x": null,
            "overflow_y": null,
            "padding": null,
            "right": null,
            "top": null,
            "visibility": null,
            "width": null
          }
        },
        "2bbf9eeee8274b8b9c6e08cca27dfe1c": {
          "model_module": "@jupyter-widgets/controls",
          "model_name": "DescriptionStyleModel",
          "model_module_version": "1.5.0",
          "state": {
            "_model_module": "@jupyter-widgets/controls",
            "_model_module_version": "1.5.0",
            "_model_name": "DescriptionStyleModel",
            "_view_count": null,
            "_view_module": "@jupyter-widgets/base",
            "_view_module_version": "1.2.0",
            "_view_name": "StyleView",
            "description_width": ""
          }
        },
        "76db739395e2409a95c5b5b14f77f06f": {
          "model_module": "@jupyter-widgets/controls",
          "model_name": "HBoxModel",
          "model_module_version": "1.5.0",
          "state": {
            "_dom_classes": [],
            "_model_module": "@jupyter-widgets/controls",
            "_model_module_version": "1.5.0",
            "_model_name": "HBoxModel",
            "_view_count": null,
            "_view_module": "@jupyter-widgets/controls",
            "_view_module_version": "1.5.0",
            "_view_name": "HBoxView",
            "box_style": "",
            "children": [
              "IPY_MODEL_57f3c8a53cc1418894bfbca06adfb105",
              "IPY_MODEL_a3e13b57484f44a381df058de924977b",
              "IPY_MODEL_6c3c0137d1c34bf297a75489ff1e5945"
            ],
            "layout": "IPY_MODEL_1b7cf09d85624cc4860e4eafefebfea9"
          }
        },
        "57f3c8a53cc1418894bfbca06adfb105": {
          "model_module": "@jupyter-widgets/controls",
          "model_name": "HTMLModel",
          "model_module_version": "1.5.0",
          "state": {
            "_dom_classes": [],
            "_model_module": "@jupyter-widgets/controls",
            "_model_module_version": "1.5.0",
            "_model_name": "HTMLModel",
            "_view_count": null,
            "_view_module": "@jupyter-widgets/controls",
            "_view_module_version": "1.5.0",
            "_view_name": "HTMLView",
            "description": "",
            "description_tooltip": null,
            "layout": "IPY_MODEL_b2d42876b90447478a0d921dc342c85a",
            "placeholder": "​",
            "style": "IPY_MODEL_735b59c76e9a4decb74a7945fd5a4013",
            "value": "Downloading: 100%"
          }
        },
        "a3e13b57484f44a381df058de924977b": {
          "model_module": "@jupyter-widgets/controls",
          "model_name": "FloatProgressModel",
          "model_module_version": "1.5.0",
          "state": {
            "_dom_classes": [],
            "_model_module": "@jupyter-widgets/controls",
            "_model_module_version": "1.5.0",
            "_model_name": "FloatProgressModel",
            "_view_count": null,
            "_view_module": "@jupyter-widgets/controls",
            "_view_module_version": "1.5.0",
            "_view_name": "ProgressView",
            "bar_style": "success",
            "description": "",
            "description_tooltip": null,
            "layout": "IPY_MODEL_f8f9c292dbf9476ca22607e3c1c13860",
            "max": 456318,
            "min": 0,
            "orientation": "horizontal",
            "style": "IPY_MODEL_8f5586bbfd564fb4a0e2f0fab9f1f89f",
            "value": 456318
          }
        },
        "6c3c0137d1c34bf297a75489ff1e5945": {
          "model_module": "@jupyter-widgets/controls",
          "model_name": "HTMLModel",
          "model_module_version": "1.5.0",
          "state": {
            "_dom_classes": [],
            "_model_module": "@jupyter-widgets/controls",
            "_model_module_version": "1.5.0",
            "_model_name": "HTMLModel",
            "_view_count": null,
            "_view_module": "@jupyter-widgets/controls",
            "_view_module_version": "1.5.0",
            "_view_name": "HTMLView",
            "description": "",
            "description_tooltip": null,
            "layout": "IPY_MODEL_7dcdfe7f2b9b40e8b67e766f54a88a10",
            "placeholder": "​",
            "style": "IPY_MODEL_876b6dcdf87f42ddad107dc2f3119194",
            "value": " 446k/446k [00:00&lt;00:00, 6.82MB/s]"
          }
        },
        "1b7cf09d85624cc4860e4eafefebfea9": {
          "model_module": "@jupyter-widgets/base",
          "model_name": "LayoutModel",
          "model_module_version": "1.2.0",
          "state": {
            "_model_module": "@jupyter-widgets/base",
            "_model_module_version": "1.2.0",
            "_model_name": "LayoutModel",
            "_view_count": null,
            "_view_module": "@jupyter-widgets/base",
            "_view_module_version": "1.2.0",
            "_view_name": "LayoutView",
            "align_content": null,
            "align_items": null,
            "align_self": null,
            "border": null,
            "bottom": null,
            "display": null,
            "flex": null,
            "flex_flow": null,
            "grid_area": null,
            "grid_auto_columns": null,
            "grid_auto_flow": null,
            "grid_auto_rows": null,
            "grid_column": null,
            "grid_gap": null,
            "grid_row": null,
            "grid_template_areas": null,
            "grid_template_columns": null,
            "grid_template_rows": null,
            "height": null,
            "justify_content": null,
            "justify_items": null,
            "left": null,
            "margin": null,
            "max_height": null,
            "max_width": null,
            "min_height": null,
            "min_width": null,
            "object_fit": null,
            "object_position": null,
            "order": null,
            "overflow": null,
            "overflow_x": null,
            "overflow_y": null,
            "padding": null,
            "right": null,
            "top": null,
            "visibility": null,
            "width": null
          }
        },
        "b2d42876b90447478a0d921dc342c85a": {
          "model_module": "@jupyter-widgets/base",
          "model_name": "LayoutModel",
          "model_module_version": "1.2.0",
          "state": {
            "_model_module": "@jupyter-widgets/base",
            "_model_module_version": "1.2.0",
            "_model_name": "LayoutModel",
            "_view_count": null,
            "_view_module": "@jupyter-widgets/base",
            "_view_module_version": "1.2.0",
            "_view_name": "LayoutView",
            "align_content": null,
            "align_items": null,
            "align_self": null,
            "border": null,
            "bottom": null,
            "display": null,
            "flex": null,
            "flex_flow": null,
            "grid_area": null,
            "grid_auto_columns": null,
            "grid_auto_flow": null,
            "grid_auto_rows": null,
            "grid_column": null,
            "grid_gap": null,
            "grid_row": null,
            "grid_template_areas": null,
            "grid_template_columns": null,
            "grid_template_rows": null,
            "height": null,
            "justify_content": null,
            "justify_items": null,
            "left": null,
            "margin": null,
            "max_height": null,
            "max_width": null,
            "min_height": null,
            "min_width": null,
            "object_fit": null,
            "object_position": null,
            "order": null,
            "overflow": null,
            "overflow_x": null,
            "overflow_y": null,
            "padding": null,
            "right": null,
            "top": null,
            "visibility": null,
            "width": null
          }
        },
        "735b59c76e9a4decb74a7945fd5a4013": {
          "model_module": "@jupyter-widgets/controls",
          "model_name": "DescriptionStyleModel",
          "model_module_version": "1.5.0",
          "state": {
            "_model_module": "@jupyter-widgets/controls",
            "_model_module_version": "1.5.0",
            "_model_name": "DescriptionStyleModel",
            "_view_count": null,
            "_view_module": "@jupyter-widgets/base",
            "_view_module_version": "1.2.0",
            "_view_name": "StyleView",
            "description_width": ""
          }
        },
        "f8f9c292dbf9476ca22607e3c1c13860": {
          "model_module": "@jupyter-widgets/base",
          "model_name": "LayoutModel",
          "model_module_version": "1.2.0",
          "state": {
            "_model_module": "@jupyter-widgets/base",
            "_model_module_version": "1.2.0",
            "_model_name": "LayoutModel",
            "_view_count": null,
            "_view_module": "@jupyter-widgets/base",
            "_view_module_version": "1.2.0",
            "_view_name": "LayoutView",
            "align_content": null,
            "align_items": null,
            "align_self": null,
            "border": null,
            "bottom": null,
            "display": null,
            "flex": null,
            "flex_flow": null,
            "grid_area": null,
            "grid_auto_columns": null,
            "grid_auto_flow": null,
            "grid_auto_rows": null,
            "grid_column": null,
            "grid_gap": null,
            "grid_row": null,
            "grid_template_areas": null,
            "grid_template_columns": null,
            "grid_template_rows": null,
            "height": null,
            "justify_content": null,
            "justify_items": null,
            "left": null,
            "margin": null,
            "max_height": null,
            "max_width": null,
            "min_height": null,
            "min_width": null,
            "object_fit": null,
            "object_position": null,
            "order": null,
            "overflow": null,
            "overflow_x": null,
            "overflow_y": null,
            "padding": null,
            "right": null,
            "top": null,
            "visibility": null,
            "width": null
          }
        },
        "8f5586bbfd564fb4a0e2f0fab9f1f89f": {
          "model_module": "@jupyter-widgets/controls",
          "model_name": "ProgressStyleModel",
          "model_module_version": "1.5.0",
          "state": {
            "_model_module": "@jupyter-widgets/controls",
            "_model_module_version": "1.5.0",
            "_model_name": "ProgressStyleModel",
            "_view_count": null,
            "_view_module": "@jupyter-widgets/base",
            "_view_module_version": "1.2.0",
            "_view_name": "StyleView",
            "bar_color": null,
            "description_width": ""
          }
        },
        "7dcdfe7f2b9b40e8b67e766f54a88a10": {
          "model_module": "@jupyter-widgets/base",
          "model_name": "LayoutModel",
          "model_module_version": "1.2.0",
          "state": {
            "_model_module": "@jupyter-widgets/base",
            "_model_module_version": "1.2.0",
            "_model_name": "LayoutModel",
            "_view_count": null,
            "_view_module": "@jupyter-widgets/base",
            "_view_module_version": "1.2.0",
            "_view_name": "LayoutView",
            "align_content": null,
            "align_items": null,
            "align_self": null,
            "border": null,
            "bottom": null,
            "display": null,
            "flex": null,
            "flex_flow": null,
            "grid_area": null,
            "grid_auto_columns": null,
            "grid_auto_flow": null,
            "grid_auto_rows": null,
            "grid_column": null,
            "grid_gap": null,
            "grid_row": null,
            "grid_template_areas": null,
            "grid_template_columns": null,
            "grid_template_rows": null,
            "height": null,
            "justify_content": null,
            "justify_items": null,
            "left": null,
            "margin": null,
            "max_height": null,
            "max_width": null,
            "min_height": null,
            "min_width": null,
            "object_fit": null,
            "object_position": null,
            "order": null,
            "overflow": null,
            "overflow_x": null,
            "overflow_y": null,
            "padding": null,
            "right": null,
            "top": null,
            "visibility": null,
            "width": null
          }
        },
        "876b6dcdf87f42ddad107dc2f3119194": {
          "model_module": "@jupyter-widgets/controls",
          "model_name": "DescriptionStyleModel",
          "model_module_version": "1.5.0",
          "state": {
            "_model_module": "@jupyter-widgets/controls",
            "_model_module_version": "1.5.0",
            "_model_name": "DescriptionStyleModel",
            "_view_count": null,
            "_view_module": "@jupyter-widgets/base",
            "_view_module_version": "1.2.0",
            "_view_name": "StyleView",
            "description_width": ""
          }
        },
        "3ba6f1d7151840c6abb7f00ca710c1df": {
          "model_module": "@jupyter-widgets/controls",
          "model_name": "HBoxModel",
          "model_module_version": "1.5.0",
          "state": {
            "_dom_classes": [],
            "_model_module": "@jupyter-widgets/controls",
            "_model_module_version": "1.5.0",
            "_model_name": "HBoxModel",
            "_view_count": null,
            "_view_module": "@jupyter-widgets/controls",
            "_view_module_version": "1.5.0",
            "_view_name": "HBoxView",
            "box_style": "",
            "children": [
              "IPY_MODEL_499748e0b9f84157b10a3228acf0bedd",
              "IPY_MODEL_bdb0b33a81774c179a64d95d39de21e9",
              "IPY_MODEL_eed1976a18de46a8b937d4748638cde7"
            ],
            "layout": "IPY_MODEL_b71608212b10414f8c2391c6f4d9aee2"
          }
        },
        "499748e0b9f84157b10a3228acf0bedd": {
          "model_module": "@jupyter-widgets/controls",
          "model_name": "HTMLModel",
          "model_module_version": "1.5.0",
          "state": {
            "_dom_classes": [],
            "_model_module": "@jupyter-widgets/controls",
            "_model_module_version": "1.5.0",
            "_model_name": "HTMLModel",
            "_view_count": null,
            "_view_module": "@jupyter-widgets/controls",
            "_view_module_version": "1.5.0",
            "_view_name": "HTMLView",
            "description": "",
            "description_tooltip": null,
            "layout": "IPY_MODEL_fae29a78997b44ba9a6f5db4821b1e0a",
            "placeholder": "​",
            "style": "IPY_MODEL_e0d4e47e7b2740b8ab2b267451dd281c",
            "value": "Downloading: 100%"
          }
        },
        "bdb0b33a81774c179a64d95d39de21e9": {
          "model_module": "@jupyter-widgets/controls",
          "model_name": "FloatProgressModel",
          "model_module_version": "1.5.0",
          "state": {
            "_dom_classes": [],
            "_model_module": "@jupyter-widgets/controls",
            "_model_module_version": "1.5.0",
            "_model_name": "FloatProgressModel",
            "_view_count": null,
            "_view_module": "@jupyter-widgets/controls",
            "_view_module_version": "1.5.0",
            "_view_name": "ProgressView",
            "bar_style": "success",
            "description": "",
            "description_tooltip": null,
            "layout": "IPY_MODEL_dddc6933735d4758bfc732e89b5b3402",
            "max": 665,
            "min": 0,
            "orientation": "horizontal",
            "style": "IPY_MODEL_4bcef66a60674427bbcaa58e588434c1",
            "value": 665
          }
        },
        "eed1976a18de46a8b937d4748638cde7": {
          "model_module": "@jupyter-widgets/controls",
          "model_name": "HTMLModel",
          "model_module_version": "1.5.0",
          "state": {
            "_dom_classes": [],
            "_model_module": "@jupyter-widgets/controls",
            "_model_module_version": "1.5.0",
            "_model_name": "HTMLModel",
            "_view_count": null,
            "_view_module": "@jupyter-widgets/controls",
            "_view_module_version": "1.5.0",
            "_view_name": "HTMLView",
            "description": "",
            "description_tooltip": null,
            "layout": "IPY_MODEL_b11eb356675d487286edb49ef8fce754",
            "placeholder": "​",
            "style": "IPY_MODEL_6e6417454c7a49d098f72d217213dcc8",
            "value": " 665/665 [00:00&lt;00:00, 35.0kB/s]"
          }
        },
        "b71608212b10414f8c2391c6f4d9aee2": {
          "model_module": "@jupyter-widgets/base",
          "model_name": "LayoutModel",
          "model_module_version": "1.2.0",
          "state": {
            "_model_module": "@jupyter-widgets/base",
            "_model_module_version": "1.2.0",
            "_model_name": "LayoutModel",
            "_view_count": null,
            "_view_module": "@jupyter-widgets/base",
            "_view_module_version": "1.2.0",
            "_view_name": "LayoutView",
            "align_content": null,
            "align_items": null,
            "align_self": null,
            "border": null,
            "bottom": null,
            "display": null,
            "flex": null,
            "flex_flow": null,
            "grid_area": null,
            "grid_auto_columns": null,
            "grid_auto_flow": null,
            "grid_auto_rows": null,
            "grid_column": null,
            "grid_gap": null,
            "grid_row": null,
            "grid_template_areas": null,
            "grid_template_columns": null,
            "grid_template_rows": null,
            "height": null,
            "justify_content": null,
            "justify_items": null,
            "left": null,
            "margin": null,
            "max_height": null,
            "max_width": null,
            "min_height": null,
            "min_width": null,
            "object_fit": null,
            "object_position": null,
            "order": null,
            "overflow": null,
            "overflow_x": null,
            "overflow_y": null,
            "padding": null,
            "right": null,
            "top": null,
            "visibility": null,
            "width": null
          }
        },
        "fae29a78997b44ba9a6f5db4821b1e0a": {
          "model_module": "@jupyter-widgets/base",
          "model_name": "LayoutModel",
          "model_module_version": "1.2.0",
          "state": {
            "_model_module": "@jupyter-widgets/base",
            "_model_module_version": "1.2.0",
            "_model_name": "LayoutModel",
            "_view_count": null,
            "_view_module": "@jupyter-widgets/base",
            "_view_module_version": "1.2.0",
            "_view_name": "LayoutView",
            "align_content": null,
            "align_items": null,
            "align_self": null,
            "border": null,
            "bottom": null,
            "display": null,
            "flex": null,
            "flex_flow": null,
            "grid_area": null,
            "grid_auto_columns": null,
            "grid_auto_flow": null,
            "grid_auto_rows": null,
            "grid_column": null,
            "grid_gap": null,
            "grid_row": null,
            "grid_template_areas": null,
            "grid_template_columns": null,
            "grid_template_rows": null,
            "height": null,
            "justify_content": null,
            "justify_items": null,
            "left": null,
            "margin": null,
            "max_height": null,
            "max_width": null,
            "min_height": null,
            "min_width": null,
            "object_fit": null,
            "object_position": null,
            "order": null,
            "overflow": null,
            "overflow_x": null,
            "overflow_y": null,
            "padding": null,
            "right": null,
            "top": null,
            "visibility": null,
            "width": null
          }
        },
        "e0d4e47e7b2740b8ab2b267451dd281c": {
          "model_module": "@jupyter-widgets/controls",
          "model_name": "DescriptionStyleModel",
          "model_module_version": "1.5.0",
          "state": {
            "_model_module": "@jupyter-widgets/controls",
            "_model_module_version": "1.5.0",
            "_model_name": "DescriptionStyleModel",
            "_view_count": null,
            "_view_module": "@jupyter-widgets/base",
            "_view_module_version": "1.2.0",
            "_view_name": "StyleView",
            "description_width": ""
          }
        },
        "dddc6933735d4758bfc732e89b5b3402": {
          "model_module": "@jupyter-widgets/base",
          "model_name": "LayoutModel",
          "model_module_version": "1.2.0",
          "state": {
            "_model_module": "@jupyter-widgets/base",
            "_model_module_version": "1.2.0",
            "_model_name": "LayoutModel",
            "_view_count": null,
            "_view_module": "@jupyter-widgets/base",
            "_view_module_version": "1.2.0",
            "_view_name": "LayoutView",
            "align_content": null,
            "align_items": null,
            "align_self": null,
            "border": null,
            "bottom": null,
            "display": null,
            "flex": null,
            "flex_flow": null,
            "grid_area": null,
            "grid_auto_columns": null,
            "grid_auto_flow": null,
            "grid_auto_rows": null,
            "grid_column": null,
            "grid_gap": null,
            "grid_row": null,
            "grid_template_areas": null,
            "grid_template_columns": null,
            "grid_template_rows": null,
            "height": null,
            "justify_content": null,
            "justify_items": null,
            "left": null,
            "margin": null,
            "max_height": null,
            "max_width": null,
            "min_height": null,
            "min_width": null,
            "object_fit": null,
            "object_position": null,
            "order": null,
            "overflow": null,
            "overflow_x": null,
            "overflow_y": null,
            "padding": null,
            "right": null,
            "top": null,
            "visibility": null,
            "width": null
          }
        },
        "4bcef66a60674427bbcaa58e588434c1": {
          "model_module": "@jupyter-widgets/controls",
          "model_name": "ProgressStyleModel",
          "model_module_version": "1.5.0",
          "state": {
            "_model_module": "@jupyter-widgets/controls",
            "_model_module_version": "1.5.0",
            "_model_name": "ProgressStyleModel",
            "_view_count": null,
            "_view_module": "@jupyter-widgets/base",
            "_view_module_version": "1.2.0",
            "_view_name": "StyleView",
            "bar_color": null,
            "description_width": ""
          }
        },
        "b11eb356675d487286edb49ef8fce754": {
          "model_module": "@jupyter-widgets/base",
          "model_name": "LayoutModel",
          "model_module_version": "1.2.0",
          "state": {
            "_model_module": "@jupyter-widgets/base",
            "_model_module_version": "1.2.0",
            "_model_name": "LayoutModel",
            "_view_count": null,
            "_view_module": "@jupyter-widgets/base",
            "_view_module_version": "1.2.0",
            "_view_name": "LayoutView",
            "align_content": null,
            "align_items": null,
            "align_self": null,
            "border": null,
            "bottom": null,
            "display": null,
            "flex": null,
            "flex_flow": null,
            "grid_area": null,
            "grid_auto_columns": null,
            "grid_auto_flow": null,
            "grid_auto_rows": null,
            "grid_column": null,
            "grid_gap": null,
            "grid_row": null,
            "grid_template_areas": null,
            "grid_template_columns": null,
            "grid_template_rows": null,
            "height": null,
            "justify_content": null,
            "justify_items": null,
            "left": null,
            "margin": null,
            "max_height": null,
            "max_width": null,
            "min_height": null,
            "min_width": null,
            "object_fit": null,
            "object_position": null,
            "order": null,
            "overflow": null,
            "overflow_x": null,
            "overflow_y": null,
            "padding": null,
            "right": null,
            "top": null,
            "visibility": null,
            "width": null
          }
        },
        "6e6417454c7a49d098f72d217213dcc8": {
          "model_module": "@jupyter-widgets/controls",
          "model_name": "DescriptionStyleModel",
          "model_module_version": "1.5.0",
          "state": {
            "_model_module": "@jupyter-widgets/controls",
            "_model_module_version": "1.5.0",
            "_model_name": "DescriptionStyleModel",
            "_view_count": null,
            "_view_module": "@jupyter-widgets/base",
            "_view_module_version": "1.2.0",
            "_view_name": "StyleView",
            "description_width": ""
          }
        },
        "c57229c6e4674410a5144231f49e5b95": {
          "model_module": "@jupyter-widgets/controls",
          "model_name": "HBoxModel",
          "model_module_version": "1.5.0",
          "state": {
            "_dom_classes": [],
            "_model_module": "@jupyter-widgets/controls",
            "_model_module_version": "1.5.0",
            "_model_name": "HBoxModel",
            "_view_count": null,
            "_view_module": "@jupyter-widgets/controls",
            "_view_module_version": "1.5.0",
            "_view_name": "HBoxView",
            "box_style": "",
            "children": [
              "IPY_MODEL_d5e89afab1a24ca1a9572e476d37ea06",
              "IPY_MODEL_a0280edc76fb49febbe19998bcbac45b",
              "IPY_MODEL_71fba3db96d14cf083104843cc1b3cbb"
            ],
            "layout": "IPY_MODEL_17adbb161b0b4478bb955d929a8408cf"
          }
        },
        "d5e89afab1a24ca1a9572e476d37ea06": {
          "model_module": "@jupyter-widgets/controls",
          "model_name": "HTMLModel",
          "model_module_version": "1.5.0",
          "state": {
            "_dom_classes": [],
            "_model_module": "@jupyter-widgets/controls",
            "_model_module_version": "1.5.0",
            "_model_name": "HTMLModel",
            "_view_count": null,
            "_view_module": "@jupyter-widgets/controls",
            "_view_module_version": "1.5.0",
            "_view_name": "HTMLView",
            "description": "",
            "description_tooltip": null,
            "layout": "IPY_MODEL_fa091e6b014849ce97ee6f476d63e4d4",
            "placeholder": "​",
            "style": "IPY_MODEL_6403903d9487410ab6659203922a1b33",
            "value": "Downloading: 100%"
          }
        },
        "a0280edc76fb49febbe19998bcbac45b": {
          "model_module": "@jupyter-widgets/controls",
          "model_name": "FloatProgressModel",
          "model_module_version": "1.5.0",
          "state": {
            "_dom_classes": [],
            "_model_module": "@jupyter-widgets/controls",
            "_model_module_version": "1.5.0",
            "_model_name": "FloatProgressModel",
            "_view_count": null,
            "_view_module": "@jupyter-widgets/controls",
            "_view_module_version": "1.5.0",
            "_view_name": "ProgressView",
            "bar_style": "success",
            "description": "",
            "description_tooltip": null,
            "layout": "IPY_MODEL_87e63f3977a04de8ad95c838fc699b96",
            "max": 548118077,
            "min": 0,
            "orientation": "horizontal",
            "style": "IPY_MODEL_e7687f0be08141b38d58062a0130fc72",
            "value": 548118077
          }
        },
        "71fba3db96d14cf083104843cc1b3cbb": {
          "model_module": "@jupyter-widgets/controls",
          "model_name": "HTMLModel",
          "model_module_version": "1.5.0",
          "state": {
            "_dom_classes": [],
            "_model_module": "@jupyter-widgets/controls",
            "_model_module_version": "1.5.0",
            "_model_name": "HTMLModel",
            "_view_count": null,
            "_view_module": "@jupyter-widgets/controls",
            "_view_module_version": "1.5.0",
            "_view_name": "HTMLView",
            "description": "",
            "description_tooltip": null,
            "layout": "IPY_MODEL_af15666102d14121b40ce06fc752a5e6",
            "placeholder": "​",
            "style": "IPY_MODEL_6cd8410623c2449b8badc384fab07435",
            "value": " 523M/523M [00:14&lt;00:00, 68.7MB/s]"
          }
        },
        "17adbb161b0b4478bb955d929a8408cf": {
          "model_module": "@jupyter-widgets/base",
          "model_name": "LayoutModel",
          "model_module_version": "1.2.0",
          "state": {
            "_model_module": "@jupyter-widgets/base",
            "_model_module_version": "1.2.0",
            "_model_name": "LayoutModel",
            "_view_count": null,
            "_view_module": "@jupyter-widgets/base",
            "_view_module_version": "1.2.0",
            "_view_name": "LayoutView",
            "align_content": null,
            "align_items": null,
            "align_self": null,
            "border": null,
            "bottom": null,
            "display": null,
            "flex": null,
            "flex_flow": null,
            "grid_area": null,
            "grid_auto_columns": null,
            "grid_auto_flow": null,
            "grid_auto_rows": null,
            "grid_column": null,
            "grid_gap": null,
            "grid_row": null,
            "grid_template_areas": null,
            "grid_template_columns": null,
            "grid_template_rows": null,
            "height": null,
            "justify_content": null,
            "justify_items": null,
            "left": null,
            "margin": null,
            "max_height": null,
            "max_width": null,
            "min_height": null,
            "min_width": null,
            "object_fit": null,
            "object_position": null,
            "order": null,
            "overflow": null,
            "overflow_x": null,
            "overflow_y": null,
            "padding": null,
            "right": null,
            "top": null,
            "visibility": null,
            "width": null
          }
        },
        "fa091e6b014849ce97ee6f476d63e4d4": {
          "model_module": "@jupyter-widgets/base",
          "model_name": "LayoutModel",
          "model_module_version": "1.2.0",
          "state": {
            "_model_module": "@jupyter-widgets/base",
            "_model_module_version": "1.2.0",
            "_model_name": "LayoutModel",
            "_view_count": null,
            "_view_module": "@jupyter-widgets/base",
            "_view_module_version": "1.2.0",
            "_view_name": "LayoutView",
            "align_content": null,
            "align_items": null,
            "align_self": null,
            "border": null,
            "bottom": null,
            "display": null,
            "flex": null,
            "flex_flow": null,
            "grid_area": null,
            "grid_auto_columns": null,
            "grid_auto_flow": null,
            "grid_auto_rows": null,
            "grid_column": null,
            "grid_gap": null,
            "grid_row": null,
            "grid_template_areas": null,
            "grid_template_columns": null,
            "grid_template_rows": null,
            "height": null,
            "justify_content": null,
            "justify_items": null,
            "left": null,
            "margin": null,
            "max_height": null,
            "max_width": null,
            "min_height": null,
            "min_width": null,
            "object_fit": null,
            "object_position": null,
            "order": null,
            "overflow": null,
            "overflow_x": null,
            "overflow_y": null,
            "padding": null,
            "right": null,
            "top": null,
            "visibility": null,
            "width": null
          }
        },
        "6403903d9487410ab6659203922a1b33": {
          "model_module": "@jupyter-widgets/controls",
          "model_name": "DescriptionStyleModel",
          "model_module_version": "1.5.0",
          "state": {
            "_model_module": "@jupyter-widgets/controls",
            "_model_module_version": "1.5.0",
            "_model_name": "DescriptionStyleModel",
            "_view_count": null,
            "_view_module": "@jupyter-widgets/base",
            "_view_module_version": "1.2.0",
            "_view_name": "StyleView",
            "description_width": ""
          }
        },
        "87e63f3977a04de8ad95c838fc699b96": {
          "model_module": "@jupyter-widgets/base",
          "model_name": "LayoutModel",
          "model_module_version": "1.2.0",
          "state": {
            "_model_module": "@jupyter-widgets/base",
            "_model_module_version": "1.2.0",
            "_model_name": "LayoutModel",
            "_view_count": null,
            "_view_module": "@jupyter-widgets/base",
            "_view_module_version": "1.2.0",
            "_view_name": "LayoutView",
            "align_content": null,
            "align_items": null,
            "align_self": null,
            "border": null,
            "bottom": null,
            "display": null,
            "flex": null,
            "flex_flow": null,
            "grid_area": null,
            "grid_auto_columns": null,
            "grid_auto_flow": null,
            "grid_auto_rows": null,
            "grid_column": null,
            "grid_gap": null,
            "grid_row": null,
            "grid_template_areas": null,
            "grid_template_columns": null,
            "grid_template_rows": null,
            "height": null,
            "justify_content": null,
            "justify_items": null,
            "left": null,
            "margin": null,
            "max_height": null,
            "max_width": null,
            "min_height": null,
            "min_width": null,
            "object_fit": null,
            "object_position": null,
            "order": null,
            "overflow": null,
            "overflow_x": null,
            "overflow_y": null,
            "padding": null,
            "right": null,
            "top": null,
            "visibility": null,
            "width": null
          }
        },
        "e7687f0be08141b38d58062a0130fc72": {
          "model_module": "@jupyter-widgets/controls",
          "model_name": "ProgressStyleModel",
          "model_module_version": "1.5.0",
          "state": {
            "_model_module": "@jupyter-widgets/controls",
            "_model_module_version": "1.5.0",
            "_model_name": "ProgressStyleModel",
            "_view_count": null,
            "_view_module": "@jupyter-widgets/base",
            "_view_module_version": "1.2.0",
            "_view_name": "StyleView",
            "bar_color": null,
            "description_width": ""
          }
        },
        "af15666102d14121b40ce06fc752a5e6": {
          "model_module": "@jupyter-widgets/base",
          "model_name": "LayoutModel",
          "model_module_version": "1.2.0",
          "state": {
            "_model_module": "@jupyter-widgets/base",
            "_model_module_version": "1.2.0",
            "_model_name": "LayoutModel",
            "_view_count": null,
            "_view_module": "@jupyter-widgets/base",
            "_view_module_version": "1.2.0",
            "_view_name": "LayoutView",
            "align_content": null,
            "align_items": null,
            "align_self": null,
            "border": null,
            "bottom": null,
            "display": null,
            "flex": null,
            "flex_flow": null,
            "grid_area": null,
            "grid_auto_columns": null,
            "grid_auto_flow": null,
            "grid_auto_rows": null,
            "grid_column": null,
            "grid_gap": null,
            "grid_row": null,
            "grid_template_areas": null,
            "grid_template_columns": null,
            "grid_template_rows": null,
            "height": null,
            "justify_content": null,
            "justify_items": null,
            "left": null,
            "margin": null,
            "max_height": null,
            "max_width": null,
            "min_height": null,
            "min_width": null,
            "object_fit": null,
            "object_position": null,
            "order": null,
            "overflow": null,
            "overflow_x": null,
            "overflow_y": null,
            "padding": null,
            "right": null,
            "top": null,
            "visibility": null,
            "width": null
          }
        },
        "6cd8410623c2449b8badc384fab07435": {
          "model_module": "@jupyter-widgets/controls",
          "model_name": "DescriptionStyleModel",
          "model_module_version": "1.5.0",
          "state": {
            "_model_module": "@jupyter-widgets/controls",
            "_model_module_version": "1.5.0",
            "_model_name": "DescriptionStyleModel",
            "_view_count": null,
            "_view_module": "@jupyter-widgets/base",
            "_view_module_version": "1.2.0",
            "_view_name": "StyleView",
            "description_width": ""
          }
        }
      }
    }
  },
  "cells": [
    {
      "cell_type": "markdown",
      "metadata": {
        "id": "SgNZTjrhcHa0"
      },
      "source": [
        "# Text Decoding from GPT-2 using Beam Search"
      ]
    },
    {
      "cell_type": "markdown",
      "metadata": {
        "id": "N25dvF4jvYoy"
      },
      "source": [
        "## Adding a hardware accelerator\n",
        "Go to the menu and add a GPU as follows:\n",
        "\n",
        "`Edit > Notebook Settings > Hardware accelerator > (GPU)`\n",
        "\n",
        "Run the following cell to confirm that the GPU is detected."
      ]
    },
    {
      "cell_type": "code",
      "metadata": {
        "id": "edOh9ooiIW1B",
        "colab": {
          "base_uri": "https://localhost:8080/"
        },
        "outputId": "325fa22d-47db-4429-b142-b9094adcb52a"
      },
      "source": [
        "import torch\n",
        "\n",
        "# Confirm that the GPU is detected\n",
        "assert torch.cuda.is_available()\n",
        "\n",
        "# Get the GPU device name.\n",
        "device_name = torch.cuda.get_device_name()\n",
        "n_gpu = torch.cuda.device_count()\n",
        "print(f\"Found device: {device_name}, n_gpu: {n_gpu}\")"
      ],
      "execution_count": null,
      "outputs": [
        {
          "output_type": "stream",
          "name": "stdout",
          "text": [
            "Found device: Tesla T4, n_gpu: 1\n"
          ]
        }
      ]
    },
    {
      "cell_type": "markdown",
      "metadata": {
        "id": "xrvH7xx9LnMC"
      },
      "source": [
        "## Installing Hugging Face's Transformers and Additional Libraries\n",
        "Hugging Face's Transformers (https://github.com/huggingface/transformers) will be used.\n",
        "\n",
        "Run the following cell to install Hugging Face's Transformers library and some other useful tools. This cell will also download data which is used later."
      ]
    },
    {
      "cell_type": "code",
      "metadata": {
        "id": "gtqS2e5fxpqa",
        "colab": {
          "base_uri": "https://localhost:8080/"
        },
        "outputId": "e62317c8-8c10-4e0e-8fa2-e26fbdd2370f"
      },
      "source": [
        "!pip install -q transformers==4.17.0  rich[jupyter]"
      ],
      "execution_count": null,
      "outputs": [
        {
          "output_type": "stream",
          "name": "stdout",
          "text": [
            "\u001b[2K     \u001b[90m━━━━━━━━━━━━━━━━━━━━━━━━━━━━━━━━━━━━━━━━\u001b[0m \u001b[32m3.8/3.8 MB\u001b[0m \u001b[31m29.4 MB/s\u001b[0m eta \u001b[36m0:00:00\u001b[0m\n",
            "\u001b[2K     \u001b[90m━━━━━━━━━━━━━━━━━━━━━━━━━━━━━━━━━━━━━━\u001b[0m \u001b[32m224.5/224.5 kB\u001b[0m \u001b[31m19.0 MB/s\u001b[0m eta \u001b[36m0:00:00\u001b[0m\n",
            "\u001b[2K     \u001b[90m━━━━━━━━━━━━━━━━━━━━━━━━━━━━━━━━━━━━━━\u001b[0m \u001b[32m880.6/880.6 kB\u001b[0m \u001b[31m25.5 MB/s\u001b[0m eta \u001b[36m0:00:00\u001b[0m\n",
            "\u001b[?25h  Preparing metadata (setup.py) ... \u001b[?25l\u001b[?25hdone\n",
            "\u001b[2K     \u001b[90m━━━━━━━━━━━━━━━━━━━━━━━━━━━━━━━━━━━━━━━━\u001b[0m \u001b[32m7.8/7.8 MB\u001b[0m \u001b[31m74.2 MB/s\u001b[0m eta \u001b[36m0:00:00\u001b[0m\n",
            "\u001b[2K     \u001b[90m━━━━━━━━━━━━━━━━━━━━━━━━━━━━━━━━━━━━━━━━\u001b[0m \u001b[32m1.6/1.6 MB\u001b[0m \u001b[31m13.4 MB/s\u001b[0m eta \u001b[36m0:00:00\u001b[0m\n",
            "\u001b[?25h  Building wheel for sacremoses (setup.py) ... \u001b[?25l\u001b[?25hdone\n"
          ]
        }
      ]
    },
    {
      "cell_type": "markdown",
      "source": [
        "## Beam Search\n",
        "The objective is to explore decoding from a pretrained GPT-2 model using beam search. Run the below cell to set up some beam search utilities."
      ],
      "metadata": {
        "id": "sa5Q_y4huAUm"
      }
    },
    {
      "cell_type": "code",
      "source": [
        "from transformers import GPT2LMHeadModel, GPT2Tokenizer\n",
        "\n",
        "tokenizer = GPT2Tokenizer.from_pretrained(\"gpt2\")\n",
        "model = GPT2LMHeadModel.from_pretrained(\"gpt2\", pad_token_id=tokenizer.eos_token_id)\n",
        "\n",
        "# Beam Search\n",
        "\n",
        "def init_beam_search(model, input_ids, num_beams):\n",
        "    assert len(input_ids.shape) == 2\n",
        "    beam_scores = torch.zeros(num_beams, dtype=torch.float32, device=model.device)\n",
        "    beam_scores[1:] = -1e9 # Break ties in first round.\n",
        "    new_input_ids = input_ids.repeat_interleave(num_beams, dim=0).to(model.device)\n",
        "    return new_input_ids, beam_scores\n",
        "\n",
        "\n",
        "def run_beam_search_(model, tokenizer, input_text, num_beams=5, num_decode_steps=10, score_processors=[], to_cpu=True):\n",
        "\n",
        "    input_ids = tokenizer.encode(input_text, return_tensors='pt')\n",
        "\n",
        "    input_ids, beam_scores = init_beam_search(model, input_ids, num_beams)\n",
        "\n",
        "    token_scores = beam_scores.clone().view(num_beams, 1)\n",
        "\n",
        "    model_kwargs = {}\n",
        "    for i in range(num_decode_steps):\n",
        "        model_inputs = model.prepare_inputs_for_generation(input_ids, **model_kwargs)\n",
        "        outputs = model(**model_inputs, return_dict=True)\n",
        "\n",
        "        next_token_logits = outputs.logits[:, -1, :]\n",
        "        vocab_size = next_token_logits.shape[-1]\n",
        "        this_token_scores = torch.log_softmax(next_token_logits, -1)\n",
        "\n",
        "        # Process token scores.\n",
        "        processed_token_scores = this_token_scores\n",
        "        for processor in score_processors:\n",
        "            processed_token_scores = processor(input_ids, processed_token_scores)\n",
        "\n",
        "        # Update beam scores.\n",
        "        next_token_scores = processed_token_scores + beam_scores.unsqueeze(-1)\n",
        "\n",
        "        # Reshape for beam-search.\n",
        "        next_token_scores = next_token_scores.view(num_beams * vocab_size)\n",
        "\n",
        "        # Find top-scoring beams.\n",
        "        next_token_scores, next_tokens = torch.topk(\n",
        "            next_token_scores, num_beams, dim=0, largest=True, sorted=True\n",
        "        )\n",
        "\n",
        "        # Transform tokens since we reshaped earlier.\n",
        "        next_indices = torch.div(next_tokens, vocab_size, rounding_mode=\"floor\") # This is equivalent to `next_tokens // vocab_size`\n",
        "        next_tokens = next_tokens % vocab_size\n",
        "\n",
        "        # Update tokens.\n",
        "        input_ids = torch.cat([input_ids[next_indices, :], next_tokens.unsqueeze(-1)], dim=-1)\n",
        "\n",
        "        # Update beam scores.\n",
        "        beam_scores = next_token_scores\n",
        "\n",
        "        # Update token scores.\n",
        "\n",
        "        # UNCOMMENT: To use original scores instead.\n",
        "        # token_scores = torch.cat([token_scores[next_indices, :], this_token_scores[next_indices, next_tokens].unsqueeze(-1)], dim=-1)\n",
        "        token_scores = torch.cat([token_scores[next_indices, :], processed_token_scores[next_indices, next_tokens].unsqueeze(-1)], dim=-1)\n",
        "\n",
        "        # Update hidden state.\n",
        "        model_kwargs = model._update_model_kwargs_for_generation(outputs, model_kwargs, is_encoder_decoder=False)\n",
        "        model_kwargs[\"past\"] = model._reorder_cache(model_kwargs[\"past\"], next_indices)\n",
        "\n",
        "    def transfer(x):\n",
        "        return x.cpu() if to_cpu else x\n",
        "\n",
        "    return {\n",
        "        \"output_ids\": transfer(input_ids),\n",
        "        \"beam_scores\": transfer(beam_scores),\n",
        "        \"token_scores\": transfer(token_scores)\n",
        "    }\n",
        "\n",
        "\n",
        "def run_beam_search(*args, **kwargs):\n",
        "    with torch.inference_mode():\n",
        "        return run_beam_search_(*args, **kwargs)\n",
        "\n",
        "\n",
        "# Add support for colored printing and plotting.\n",
        "\n",
        "from rich import print as rich_print\n",
        "\n",
        "import numpy as np\n",
        "\n",
        "import matplotlib\n",
        "from matplotlib import pyplot as plt\n",
        "from matplotlib import cm\n",
        "\n",
        "RICH_x = np.linspace(0.0, 1.0, 50)\n",
        "RICH_rgb = (matplotlib.colormaps.get_cmap(plt.get_cmap('RdYlBu'))(RICH_x)[:, :3] * 255).astype(np.int32)[range(5, 45, 5)]\n",
        "\n",
        "\n",
        "def print_with_probs(words, probs, prefix=None):\n",
        "  def fmt(x, p, is_first=False):\n",
        "    ix = int(p * RICH_rgb.shape[0])\n",
        "    r, g, b = RICH_rgb[ix]\n",
        "    if is_first:\n",
        "      return f'[bold rgb(0,0,0) on rgb({r},{g},{b})]{x}'\n",
        "    else:\n",
        "      return f'[bold rgb(0,0,0) on rgb({r},{g},{b})] {x}'\n",
        "  output = []\n",
        "  if prefix is not None:\n",
        "    output.append(prefix)\n",
        "  for i, (x, p) in enumerate(zip(words, probs)):\n",
        "    output.append(fmt(x, p, is_first=i == 0))\n",
        "  rich_print(''.join(output))\n",
        "\n",
        "# DEMO\n",
        "\n",
        "# Show range of colors.\n",
        "\n",
        "for i in range(RICH_rgb.shape[0]):\n",
        "  r, g, b = RICH_rgb[i]\n",
        "  rich_print(f'[bold rgb(0,0,0) on rgb({r},{g},{b})]hello world rgb({r},{g},{b})')\n",
        "\n",
        "# Example with words and probabilities.\n",
        "\n",
        "words = ['the', 'brown', 'fox']\n",
        "probs = [0.14, 0.83, 0.5]\n",
        "print_with_probs(words, probs)"
      ],
      "metadata": {
        "id": "bgUbrB6ht_ch",
        "colab": {
          "base_uri": "https://localhost:8080/",
          "height": 298,
          "referenced_widgets": [
            "5ece3b77d837436ba293558793fb8b7e",
            "a3a9079a685c44a6bc302a52ec899868",
            "8b3f277725894bf48c34fbc45fd6171d",
            "c0ee7d0c103645b5ad2740d486c7aa7a",
            "67a98d4c8bdc45fc8311f675d31b53cd",
            "aaadd6c6506a4d2d918836cb323d70f2",
            "8fb2344f9d784b33b8c97dad3265ac87",
            "5807f227afd1407882a5406b0265ec40",
            "65c64cd4890c4bc4af41487c0a23eff0",
            "76d0a2db964b4d6ebd8fe2b1b8d37017",
            "2bbf9eeee8274b8b9c6e08cca27dfe1c",
            "76db739395e2409a95c5b5b14f77f06f",
            "57f3c8a53cc1418894bfbca06adfb105",
            "a3e13b57484f44a381df058de924977b",
            "6c3c0137d1c34bf297a75489ff1e5945",
            "1b7cf09d85624cc4860e4eafefebfea9",
            "b2d42876b90447478a0d921dc342c85a",
            "735b59c76e9a4decb74a7945fd5a4013",
            "f8f9c292dbf9476ca22607e3c1c13860",
            "8f5586bbfd564fb4a0e2f0fab9f1f89f",
            "7dcdfe7f2b9b40e8b67e766f54a88a10",
            "876b6dcdf87f42ddad107dc2f3119194",
            "3ba6f1d7151840c6abb7f00ca710c1df",
            "499748e0b9f84157b10a3228acf0bedd",
            "bdb0b33a81774c179a64d95d39de21e9",
            "eed1976a18de46a8b937d4748638cde7",
            "b71608212b10414f8c2391c6f4d9aee2",
            "fae29a78997b44ba9a6f5db4821b1e0a",
            "e0d4e47e7b2740b8ab2b267451dd281c",
            "dddc6933735d4758bfc732e89b5b3402",
            "4bcef66a60674427bbcaa58e588434c1",
            "b11eb356675d487286edb49ef8fce754",
            "6e6417454c7a49d098f72d217213dcc8",
            "c57229c6e4674410a5144231f49e5b95",
            "d5e89afab1a24ca1a9572e476d37ea06",
            "a0280edc76fb49febbe19998bcbac45b",
            "71fba3db96d14cf083104843cc1b3cbb",
            "17adbb161b0b4478bb955d929a8408cf",
            "fa091e6b014849ce97ee6f476d63e4d4",
            "6403903d9487410ab6659203922a1b33",
            "87e63f3977a04de8ad95c838fc699b96",
            "e7687f0be08141b38d58062a0130fc72",
            "af15666102d14121b40ce06fc752a5e6",
            "6cd8410623c2449b8badc384fab07435"
          ]
        },
        "outputId": "d6345150-5e93-42bf-d529-ba7f2ba94a43"
      },
      "execution_count": null,
      "outputs": [
        {
          "output_type": "display_data",
          "data": {
            "text/plain": [
              "Downloading:   0%|          | 0.00/0.99M [00:00<?, ?B/s]"
            ],
            "application/vnd.jupyter.widget-view+json": {
              "version_major": 2,
              "version_minor": 0,
              "model_id": "5ece3b77d837436ba293558793fb8b7e"
            }
          },
          "metadata": {}
        },
        {
          "output_type": "display_data",
          "data": {
            "text/plain": [
              "Downloading:   0%|          | 0.00/446k [00:00<?, ?B/s]"
            ],
            "application/vnd.jupyter.widget-view+json": {
              "version_major": 2,
              "version_minor": 0,
              "model_id": "76db739395e2409a95c5b5b14f77f06f"
            }
          },
          "metadata": {}
        },
        {
          "output_type": "display_data",
          "data": {
            "text/plain": [
              "Downloading:   0%|          | 0.00/665 [00:00<?, ?B/s]"
            ],
            "application/vnd.jupyter.widget-view+json": {
              "version_major": 2,
              "version_minor": 0,
              "model_id": "3ba6f1d7151840c6abb7f00ca710c1df"
            }
          },
          "metadata": {}
        },
        {
          "output_type": "display_data",
          "data": {
            "text/plain": [
              "Downloading:   0%|          | 0.00/523M [00:00<?, ?B/s]"
            ],
            "application/vnd.jupyter.widget-view+json": {
              "version_major": 2,
              "version_minor": 0,
              "model_id": "c57229c6e4674410a5144231f49e5b95"
            }
          },
          "metadata": {}
        },
        {
          "output_type": "display_data",
          "data": {
            "text/plain": [
              "\u001b[1;38;2;0;0;0;48;2;215;49;39mhello world \u001b[0m\u001b[1;38;2;0;0;0;48;2;215;49;39mrgb\u001b[0m\u001b[1;38;2;0;0;0;48;2;215;49;39m(\u001b[0m\u001b[1;38;2;0;0;0;48;2;215;49;39m215\u001b[0m\u001b[1;38;2;0;0;0;48;2;215;49;39m,\u001b[0m\u001b[1;38;2;0;0;0;48;2;215;49;39m49\u001b[0m\u001b[1;38;2;0;0;0;48;2;215;49;39m,\u001b[0m\u001b[1;38;2;0;0;0;48;2;215;49;39m39\u001b[0m\u001b[1;38;2;0;0;0;48;2;215;49;39m)\u001b[0m\n"
            ],
            "text/html": [
              "<pre style=\"white-space:pre;overflow-x:auto;line-height:normal;font-family:Menlo,'DejaVu Sans Mono',consolas,'Courier New',monospace\"><span style=\"color: #000000; text-decoration-color: #000000; background-color: #d73127; font-weight: bold\">hello world rgb(</span><span style=\"color: #000000; text-decoration-color: #000000; background-color: #d73127; font-weight: bold\">215</span><span style=\"color: #000000; text-decoration-color: #000000; background-color: #d73127; font-weight: bold\">,</span><span style=\"color: #000000; text-decoration-color: #000000; background-color: #d73127; font-weight: bold\">49</span><span style=\"color: #000000; text-decoration-color: #000000; background-color: #d73127; font-weight: bold\">,</span><span style=\"color: #000000; text-decoration-color: #000000; background-color: #d73127; font-weight: bold\">39</span><span style=\"color: #000000; text-decoration-color: #000000; background-color: #d73127; font-weight: bold\">)</span>\n",
              "</pre>\n"
            ]
          },
          "metadata": {}
        },
        {
          "output_type": "display_data",
          "data": {
            "text/plain": [
              "\u001b[1;38;2;0;0;0;48;2;244;111;68mhello world \u001b[0m\u001b[1;38;2;0;0;0;48;2;244;111;68mrgb\u001b[0m\u001b[1;38;2;0;0;0;48;2;244;111;68m(\u001b[0m\u001b[1;38;2;0;0;0;48;2;244;111;68m244\u001b[0m\u001b[1;38;2;0;0;0;48;2;244;111;68m,\u001b[0m\u001b[1;38;2;0;0;0;48;2;244;111;68m111\u001b[0m\u001b[1;38;2;0;0;0;48;2;244;111;68m,\u001b[0m\u001b[1;38;2;0;0;0;48;2;244;111;68m68\u001b[0m\u001b[1;38;2;0;0;0;48;2;244;111;68m)\u001b[0m\n"
            ],
            "text/html": [
              "<pre style=\"white-space:pre;overflow-x:auto;line-height:normal;font-family:Menlo,'DejaVu Sans Mono',consolas,'Courier New',monospace\"><span style=\"color: #000000; text-decoration-color: #000000; background-color: #f46f44; font-weight: bold\">hello world rgb(</span><span style=\"color: #000000; text-decoration-color: #000000; background-color: #f46f44; font-weight: bold\">244</span><span style=\"color: #000000; text-decoration-color: #000000; background-color: #f46f44; font-weight: bold\">,</span><span style=\"color: #000000; text-decoration-color: #000000; background-color: #f46f44; font-weight: bold\">111</span><span style=\"color: #000000; text-decoration-color: #000000; background-color: #f46f44; font-weight: bold\">,</span><span style=\"color: #000000; text-decoration-color: #000000; background-color: #f46f44; font-weight: bold\">68</span><span style=\"color: #000000; text-decoration-color: #000000; background-color: #f46f44; font-weight: bold\">)</span>\n",
              "</pre>\n"
            ]
          },
          "metadata": {}
        },
        {
          "output_type": "display_data",
          "data": {
            "text/plain": [
              "\u001b[1;38;2;0;0;0;48;2;253;176;99mhello world \u001b[0m\u001b[1;38;2;0;0;0;48;2;253;176;99mrgb\u001b[0m\u001b[1;38;2;0;0;0;48;2;253;176;99m(\u001b[0m\u001b[1;38;2;0;0;0;48;2;253;176;99m253\u001b[0m\u001b[1;38;2;0;0;0;48;2;253;176;99m,\u001b[0m\u001b[1;38;2;0;0;0;48;2;253;176;99m176\u001b[0m\u001b[1;38;2;0;0;0;48;2;253;176;99m,\u001b[0m\u001b[1;38;2;0;0;0;48;2;253;176;99m99\u001b[0m\u001b[1;38;2;0;0;0;48;2;253;176;99m)\u001b[0m\n"
            ],
            "text/html": [
              "<pre style=\"white-space:pre;overflow-x:auto;line-height:normal;font-family:Menlo,'DejaVu Sans Mono',consolas,'Courier New',monospace\"><span style=\"color: #000000; text-decoration-color: #000000; background-color: #fdb063; font-weight: bold\">hello world rgb(</span><span style=\"color: #000000; text-decoration-color: #000000; background-color: #fdb063; font-weight: bold\">253</span><span style=\"color: #000000; text-decoration-color: #000000; background-color: #fdb063; font-weight: bold\">,</span><span style=\"color: #000000; text-decoration-color: #000000; background-color: #fdb063; font-weight: bold\">176</span><span style=\"color: #000000; text-decoration-color: #000000; background-color: #fdb063; font-weight: bold\">,</span><span style=\"color: #000000; text-decoration-color: #000000; background-color: #fdb063; font-weight: bold\">99</span><span style=\"color: #000000; text-decoration-color: #000000; background-color: #fdb063; font-weight: bold\">)</span>\n",
              "</pre>\n"
            ]
          },
          "metadata": {}
        },
        {
          "output_type": "display_data",
          "data": {
            "text/plain": [
              "\u001b[1;38;2;0;0;0;48;2;254;226;147mhello world \u001b[0m\u001b[1;38;2;0;0;0;48;2;254;226;147mrgb\u001b[0m\u001b[1;38;2;0;0;0;48;2;254;226;147m(\u001b[0m\u001b[1;38;2;0;0;0;48;2;254;226;147m254\u001b[0m\u001b[1;38;2;0;0;0;48;2;254;226;147m,\u001b[0m\u001b[1;38;2;0;0;0;48;2;254;226;147m226\u001b[0m\u001b[1;38;2;0;0;0;48;2;254;226;147m,\u001b[0m\u001b[1;38;2;0;0;0;48;2;254;226;147m147\u001b[0m\u001b[1;38;2;0;0;0;48;2;254;226;147m)\u001b[0m\n"
            ],
            "text/html": [
              "<pre style=\"white-space:pre;overflow-x:auto;line-height:normal;font-family:Menlo,'DejaVu Sans Mono',consolas,'Courier New',monospace\"><span style=\"color: #000000; text-decoration-color: #000000; background-color: #fee293; font-weight: bold\">hello world rgb(</span><span style=\"color: #000000; text-decoration-color: #000000; background-color: #fee293; font-weight: bold\">254</span><span style=\"color: #000000; text-decoration-color: #000000; background-color: #fee293; font-weight: bold\">,</span><span style=\"color: #000000; text-decoration-color: #000000; background-color: #fee293; font-weight: bold\">226</span><span style=\"color: #000000; text-decoration-color: #000000; background-color: #fee293; font-weight: bold\">,</span><span style=\"color: #000000; text-decoration-color: #000000; background-color: #fee293; font-weight: bold\">147</span><span style=\"color: #000000; text-decoration-color: #000000; background-color: #fee293; font-weight: bold\">)</span>\n",
              "</pre>\n"
            ]
          },
          "metadata": {}
        },
        {
          "output_type": "display_data",
          "data": {
            "text/plain": [
              "\u001b[1;38;2;0;0;0;48;2;251;253;196mhello world \u001b[0m\u001b[1;38;2;0;0;0;48;2;251;253;196mrgb\u001b[0m\u001b[1;38;2;0;0;0;48;2;251;253;196m(\u001b[0m\u001b[1;38;2;0;0;0;48;2;251;253;196m251\u001b[0m\u001b[1;38;2;0;0;0;48;2;251;253;196m,\u001b[0m\u001b[1;38;2;0;0;0;48;2;251;253;196m253\u001b[0m\u001b[1;38;2;0;0;0;48;2;251;253;196m,\u001b[0m\u001b[1;38;2;0;0;0;48;2;251;253;196m196\u001b[0m\u001b[1;38;2;0;0;0;48;2;251;253;196m)\u001b[0m\n"
            ],
            "text/html": [
              "<pre style=\"white-space:pre;overflow-x:auto;line-height:normal;font-family:Menlo,'DejaVu Sans Mono',consolas,'Courier New',monospace\"><span style=\"color: #000000; text-decoration-color: #000000; background-color: #fbfdc4; font-weight: bold\">hello world rgb(</span><span style=\"color: #000000; text-decoration-color: #000000; background-color: #fbfdc4; font-weight: bold\">251</span><span style=\"color: #000000; text-decoration-color: #000000; background-color: #fbfdc4; font-weight: bold\">,</span><span style=\"color: #000000; text-decoration-color: #000000; background-color: #fbfdc4; font-weight: bold\">253</span><span style=\"color: #000000; text-decoration-color: #000000; background-color: #fbfdc4; font-weight: bold\">,</span><span style=\"color: #000000; text-decoration-color: #000000; background-color: #fbfdc4; font-weight: bold\">196</span><span style=\"color: #000000; text-decoration-color: #000000; background-color: #fbfdc4; font-weight: bold\">)</span>\n",
              "</pre>\n"
            ]
          },
          "metadata": {}
        },
        {
          "output_type": "display_data",
          "data": {
            "text/plain": [
              "\u001b[1;38;2;0;0;0;48;2;217;239;246mhello world \u001b[0m\u001b[1;38;2;0;0;0;48;2;217;239;246mrgb\u001b[0m\u001b[1;38;2;0;0;0;48;2;217;239;246m(\u001b[0m\u001b[1;38;2;0;0;0;48;2;217;239;246m217\u001b[0m\u001b[1;38;2;0;0;0;48;2;217;239;246m,\u001b[0m\u001b[1;38;2;0;0;0;48;2;217;239;246m239\u001b[0m\u001b[1;38;2;0;0;0;48;2;217;239;246m,\u001b[0m\u001b[1;38;2;0;0;0;48;2;217;239;246m246\u001b[0m\u001b[1;38;2;0;0;0;48;2;217;239;246m)\u001b[0m\n"
            ],
            "text/html": [
              "<pre style=\"white-space:pre;overflow-x:auto;line-height:normal;font-family:Menlo,'DejaVu Sans Mono',consolas,'Courier New',monospace\"><span style=\"color: #000000; text-decoration-color: #000000; background-color: #d9eff6; font-weight: bold\">hello world rgb(</span><span style=\"color: #000000; text-decoration-color: #000000; background-color: #d9eff6; font-weight: bold\">217</span><span style=\"color: #000000; text-decoration-color: #000000; background-color: #d9eff6; font-weight: bold\">,</span><span style=\"color: #000000; text-decoration-color: #000000; background-color: #d9eff6; font-weight: bold\">239</span><span style=\"color: #000000; text-decoration-color: #000000; background-color: #d9eff6; font-weight: bold\">,</span><span style=\"color: #000000; text-decoration-color: #000000; background-color: #d9eff6; font-weight: bold\">246</span><span style=\"color: #000000; text-decoration-color: #000000; background-color: #d9eff6; font-weight: bold\">)</span>\n",
              "</pre>\n"
            ]
          },
          "metadata": {}
        },
        {
          "output_type": "display_data",
          "data": {
            "text/plain": [
              "\u001b[1;38;2;0;0;0;48;2;163;210;229mhello world \u001b[0m\u001b[1;38;2;0;0;0;48;2;163;210;229mrgb\u001b[0m\u001b[1;38;2;0;0;0;48;2;163;210;229m(\u001b[0m\u001b[1;38;2;0;0;0;48;2;163;210;229m163\u001b[0m\u001b[1;38;2;0;0;0;48;2;163;210;229m,\u001b[0m\u001b[1;38;2;0;0;0;48;2;163;210;229m210\u001b[0m\u001b[1;38;2;0;0;0;48;2;163;210;229m,\u001b[0m\u001b[1;38;2;0;0;0;48;2;163;210;229m229\u001b[0m\u001b[1;38;2;0;0;0;48;2;163;210;229m)\u001b[0m\n"
            ],
            "text/html": [
              "<pre style=\"white-space:pre;overflow-x:auto;line-height:normal;font-family:Menlo,'DejaVu Sans Mono',consolas,'Courier New',monospace\"><span style=\"color: #000000; text-decoration-color: #000000; background-color: #a3d2e5; font-weight: bold\">hello world rgb(</span><span style=\"color: #000000; text-decoration-color: #000000; background-color: #a3d2e5; font-weight: bold\">163</span><span style=\"color: #000000; text-decoration-color: #000000; background-color: #a3d2e5; font-weight: bold\">,</span><span style=\"color: #000000; text-decoration-color: #000000; background-color: #a3d2e5; font-weight: bold\">210</span><span style=\"color: #000000; text-decoration-color: #000000; background-color: #a3d2e5; font-weight: bold\">,</span><span style=\"color: #000000; text-decoration-color: #000000; background-color: #a3d2e5; font-weight: bold\">229</span><span style=\"color: #000000; text-decoration-color: #000000; background-color: #a3d2e5; font-weight: bold\">)</span>\n",
              "</pre>\n"
            ]
          },
          "metadata": {}
        },
        {
          "output_type": "display_data",
          "data": {
            "text/plain": [
              "\u001b[1;38;2;0;0;0;48;2;108;164;204mhello world \u001b[0m\u001b[1;38;2;0;0;0;48;2;108;164;204mrgb\u001b[0m\u001b[1;38;2;0;0;0;48;2;108;164;204m(\u001b[0m\u001b[1;38;2;0;0;0;48;2;108;164;204m108\u001b[0m\u001b[1;38;2;0;0;0;48;2;108;164;204m,\u001b[0m\u001b[1;38;2;0;0;0;48;2;108;164;204m164\u001b[0m\u001b[1;38;2;0;0;0;48;2;108;164;204m,\u001b[0m\u001b[1;38;2;0;0;0;48;2;108;164;204m204\u001b[0m\u001b[1;38;2;0;0;0;48;2;108;164;204m)\u001b[0m\n"
            ],
            "text/html": [
              "<pre style=\"white-space:pre;overflow-x:auto;line-height:normal;font-family:Menlo,'DejaVu Sans Mono',consolas,'Courier New',monospace\"><span style=\"color: #000000; text-decoration-color: #000000; background-color: #6ca4cc; font-weight: bold\">hello world rgb(</span><span style=\"color: #000000; text-decoration-color: #000000; background-color: #6ca4cc; font-weight: bold\">108</span><span style=\"color: #000000; text-decoration-color: #000000; background-color: #6ca4cc; font-weight: bold\">,</span><span style=\"color: #000000; text-decoration-color: #000000; background-color: #6ca4cc; font-weight: bold\">164</span><span style=\"color: #000000; text-decoration-color: #000000; background-color: #6ca4cc; font-weight: bold\">,</span><span style=\"color: #000000; text-decoration-color: #000000; background-color: #6ca4cc; font-weight: bold\">204</span><span style=\"color: #000000; text-decoration-color: #000000; background-color: #6ca4cc; font-weight: bold\">)</span>\n",
              "</pre>\n"
            ]
          },
          "metadata": {}
        },
        {
          "output_type": "display_data",
          "data": {
            "text/plain": [
              "\u001b[1;38;2;0;0;0;48;2;244;111;68mthe\u001b[0m\u001b[1;38;2;0;0;0;48;2;163;210;229m brown\u001b[0m\u001b[1;38;2;0;0;0;48;2;251;253;196m fox\u001b[0m\n"
            ],
            "text/html": [
              "<pre style=\"white-space:pre;overflow-x:auto;line-height:normal;font-family:Menlo,'DejaVu Sans Mono',consolas,'Courier New',monospace\"><span style=\"color: #000000; text-decoration-color: #000000; background-color: #f46f44; font-weight: bold\">the</span><span style=\"color: #000000; text-decoration-color: #000000; background-color: #a3d2e5; font-weight: bold\"> brown</span><span style=\"color: #000000; text-decoration-color: #000000; background-color: #fbfdc4; font-weight: bold\"> fox</span>\n",
              "</pre>\n"
            ]
          },
          "metadata": {}
        }
      ]
    },
    {
      "cell_type": "markdown",
      "source": [
        "## Token generation\n",
        "The cell below produces a sequence of tokens using beam search and the provided prefix."
      ],
      "metadata": {
        "id": "lbieUEZViMJy"
      }
    },
    {
      "cell_type": "code",
      "source": [
        "num_beams = 5\n",
        "num_decode_steps = 10\n",
        "input_text = 'The brown fox jumps'\n",
        "\n",
        "beam_output = run_beam_search(model, tokenizer, input_text, num_beams=num_beams, num_decode_steps=num_decode_steps)\n",
        "for i, tokens in enumerate(beam_output['output_ids']):\n",
        "    score = beam_output['beam_scores'][i]\n",
        "    print(i, round(score.item() / tokens.shape[-1], 3), tokenizer.decode(tokens, skip_special_tokens=True))\n"
      ],
      "metadata": {
        "id": "WccupVHjymFv",
        "colab": {
          "base_uri": "https://localhost:8080/"
        },
        "outputId": "2f163eb2-fe60-4235-b74e-ba1557772346"
      },
      "execution_count": null,
      "outputs": [
        {
          "output_type": "stream",
          "name": "stdout",
          "text": [
            "0 -1.106 The brown fox jumps out of the fox's mouth, and the fox\n",
            "1 -1.168 The brown fox jumps out of the fox's cage, and the fox\n",
            "2 -1.182 The brown fox jumps out of the fox's mouth and starts to run\n",
            "3 -1.192 The brown fox jumps out of the fox's mouth and begins to lick\n",
            "4 -1.199 The brown fox jumps out of the fox's mouth and begins to bite\n"
          ]
        }
      ]
    },
    {
      "cell_type": "markdown",
      "source": [
        "As another example, the cell below uses the same prefix as above and generates 3 tokens with a beam size of 4, and then prints out the **third most probable** output sequence found during the search."
      ],
      "metadata": {
        "id": "t6zN9dbNLBl8"
      }
    },
    {
      "cell_type": "code",
      "source": [
        "input_text = 'The brown fox jumps'\n",
        "\n",
        "beam_output = run_beam_search(model, tokenizer, input_text, num_beams=4, num_decode_steps=3)\n",
        "\n",
        "score = beam_output['beam_scores'][2]\n",
        "tokens = beam_output['output_ids'][2]\n",
        "print(2, round(score.item() / tokens.shape[-1], 3), tokenizer.decode(tokens, skip_special_tokens=True))"
      ],
      "metadata": {
        "id": "STizG6yiLqIS",
        "colab": {
          "base_uri": "https://localhost:8080/"
        },
        "outputId": "309836ba-ada7-4eef-9d32-f5581296d00c"
      },
      "execution_count": null,
      "outputs": [
        {
          "output_type": "stream",
          "name": "stdout",
          "text": [
            "2 -0.627 The brown fox jumps up and down\n"
          ]
        }
      ]
    },
    {
      "cell_type": "markdown",
      "source": [
        "Run the cell below to visualize the probabilities the model assigns for each generated word when using beam search with beam size 1 (i.e., greedy decoding)."
      ],
      "metadata": {
        "id": "15aHJGr8p0mD"
      }
    },
    {
      "cell_type": "code",
      "source": [
        "input_text = 'The brown fox jumps'\n",
        "beam_output = run_beam_search(model, tokenizer, input_text, num_beams=1, num_decode_steps=20)\n",
        "probs = beam_output['token_scores'][0, 1:].exp()\n",
        "output_subwords = [tokenizer.decode(tok, skip_special_tokens=True) for tok in beam_output['output_ids'][0]]\n",
        "\n",
        "print('Visualizeation with plot:')\n",
        "\n",
        "fig, ax = plt.subplots()\n",
        "plt.plot(range(len(probs)), probs)\n",
        "ax.set_xticks(range(len(probs)))\n",
        "ax.set_xticklabels(output_subwords[-len(probs):], rotation = 45)\n",
        "plt.xlabel('word')\n",
        "plt.ylabel('prob')\n",
        "plt.show()\n",
        "\n",
        "print('Visualization with colored text (red for lower probability, and blue for higher):')\n",
        "\n",
        "print_with_probs(output_subwords[-len(probs):], probs, ' '.join(output_subwords[:-len(probs)]))"
      ],
      "metadata": {
        "id": "lDXNNlktqIUW",
        "colab": {
          "base_uri": "https://localhost:8080/",
          "height": 569
        },
        "outputId": "4c1029d0-3ecb-4dcd-aa00-75ff454ac497"
      },
      "execution_count": null,
      "outputs": [
        {
          "output_type": "stream",
          "name": "stdout",
          "text": [
            "Visualizeation with plot:\n"
          ]
        },
        {
          "output_type": "display_data",
          "data": {
            "text/plain": [
              "<Figure size 640x480 with 1 Axes>"
            ],
            "image/png": "[encoded data removed]"
          },
          "metadata": {}
        },
        {
          "output_type": "stream",
          "name": "stdout",
          "text": [
            "Visualization with colored text (red for lower probability, and blue for higher):\n"
          ]
        },
        {
          "output_type": "display_data",
          "data": {
            "text/plain": [
              "The  brown  fox  jumps\u001b[1;38;2;0;0;0;48;2;244;111;68m up\u001b[0m\u001b[1;38;2;0;0;0;48;2;254;226;147m  and\u001b[0m\u001b[1;38;2;0;0;0;48;2;244;111;68m  down\u001b[0m\u001b[1;38;2;0;0;0;48;2;244;111;68m  on\u001b[0m\u001b[1;38;2;0;0;0;48;2;254;226;147m  the\u001b[0m\u001b[1;38;2;0;0;0;48;2;244;111;68m  ground\u001b[0m\u001b[1;38;2;0;0;0;48;2;244;111;68m ,\u001b[0m\u001b[1;38;2;0;0;0;48;2;215;49;39m  and\u001b[0m\u001b[1;38;2;0;0;0;48;2;215;49;39m  then\u001b[0m\u001b[1;38;2;0;0;0;48;2;215;49;39m  he\u001b[0m\u001b[1;38;2;0;0;0;48;2;215;49;39m  jumps\u001b[0m\u001b[1;38;2;0;0;0;48;2;253;176;99m  up\u001b[0m\u001b[1;38;2;0;0;0;48;2;251;253;196m  and\u001b[0m\u001b[1;38;2;0;0;0;48;2;163;210;229m  down\u001b[0m\u001b[1;38;2;0;0;0;48;2;253;176;99m  on\u001b[0m\u001b[1;38;2;0;0;0;48;2;217;239;246m  the\u001b[0m\u001b[1;38;2;0;0;0;48;2;251;253;196m  ground\u001b[0m\u001b[1;38;2;0;0;0;48;2;253;176;99m  \u001b[0m\n",
              "\u001b[1;38;2;0;0;0;48;2;253;176;99magain\u001b[0m\u001b[1;38;2;0;0;0;48;2;251;253;196m .\u001b[0m\u001b[1;38;2;0;0;0;48;2;244;111;68m \u001b[0m\n",
              "\n"
            ],
            "text/html": [
              "<pre style=\"white-space:pre;overflow-x:auto;line-height:normal;font-family:Menlo,'DejaVu Sans Mono',consolas,'Courier New',monospace\">The  brown  fox  jumps<span style=\"color: #000000; text-decoration-color: #000000; background-color: #f46f44; font-weight: bold\"> up</span><span style=\"color: #000000; text-decoration-color: #000000; background-color: #fee293; font-weight: bold\">  and</span><span style=\"color: #000000; text-decoration-color: #000000; background-color: #f46f44; font-weight: bold\">  down  on</span><span style=\"color: #000000; text-decoration-color: #000000; background-color: #fee293; font-weight: bold\">  the</span><span style=\"color: #000000; text-decoration-color: #000000; background-color: #f46f44; font-weight: bold\">  ground ,</span><span style=\"color: #000000; text-decoration-color: #000000; background-color: #d73127; font-weight: bold\">  and  then  he  jumps</span><span style=\"color: #000000; text-decoration-color: #000000; background-color: #fdb063; font-weight: bold\">  up</span><span style=\"color: #000000; text-decoration-color: #000000; background-color: #fbfdc4; font-weight: bold\">  and</span><span style=\"color: #000000; text-decoration-color: #000000; background-color: #a3d2e5; font-weight: bold\">  down</span><span style=\"color: #000000; text-decoration-color: #000000; background-color: #fdb063; font-weight: bold\">  on</span><span style=\"color: #000000; text-decoration-color: #000000; background-color: #d9eff6; font-weight: bold\">  the</span><span style=\"color: #000000; text-decoration-color: #000000; background-color: #fbfdc4; font-weight: bold\">  ground</span><span style=\"color: #000000; text-decoration-color: #000000; background-color: #fdb063; font-weight: bold\">  </span>\n",
              "<span style=\"color: #000000; text-decoration-color: #000000; background-color: #fdb063; font-weight: bold\">again</span><span style=\"color: #000000; text-decoration-color: #000000; background-color: #fbfdc4; font-weight: bold\"> .</span><span style=\"color: #000000; text-decoration-color: #000000; background-color: #f46f44; font-weight: bold\"> </span>\n",
              "\n",
              "</pre>\n"
            ]
          },
          "metadata": {}
        }
      ]
    },
    {
      "cell_type": "markdown",
      "source": [
        "Observe that the model assign higher probability to tokens generated later than to tokens generated earlier. This is because at the early stage, the model has seen only a few words. For instance, while generating the first word \"up\", the model knows only 4 words that come before it i.e. \"The brown fox jumps\".\n",
        "\n",
        "Whereas, for the tokens generated later, the model has knowledge of more words as compared to the previous case. For example, when the word \"down\" is generated for the 2nd time, the model knows about a lot of words that were generated before i.e. \"The  brown  fox  jumps up  and  down  on  the  ground ,  and  then  he  jumps  up  and\".\n",
        "\n",
        "Due to this reason, higher probability is assigned to tokens generated later than to tokens generated earlier because for tokens generated later, the model has more context about the sequence of tokens that come before it."
      ],
      "metadata": {
        "id": "KZq6Zhw0MKuo"
      }
    },
    {
      "cell_type": "markdown",
      "source": [
        "\n",
        "\n",
        "Run the cell below to visualize the word probabilities when using different beam sizes."
      ],
      "metadata": {
        "id": "Boog4GEBsBCo"
      }
    },
    {
      "cell_type": "code",
      "source": [
        "input_text = 'Once upon a time, in a barn near a farm house,'\n",
        "num_decode_steps = 20\n",
        "model.cuda()\n",
        "\n",
        "beam_size_list = [1, 2, 3, 4, 5]\n",
        "output_list = []\n",
        "probs_list = []\n",
        "for bm in beam_size_list:\n",
        "  beam_output = run_beam_search(model, tokenizer, input_text, num_beams=bm, num_decode_steps=num_decode_steps)\n",
        "  output_list.append(beam_output)\n",
        "  probs = beam_output['token_scores'][0, 1:].exp()\n",
        "  probs_list.append((bm, probs))\n",
        "\n",
        "print('Visualization with plot:')\n",
        "fig, ax = plt.subplots()\n",
        "for bm, probs in probs_list:\n",
        "  plt.plot(range(len(probs)), probs, label=f'beam size = {bm}')\n",
        "plt.xlabel('decode step')\n",
        "plt.ylabel('prob')\n",
        "plt.legend(loc='best')\n",
        "plt.show()\n",
        "\n",
        "print('Model predictions:')\n",
        "for bm, beam_output in zip(beam_size_list, output_list):\n",
        "  tokens = beam_output['output_ids'][0]\n",
        "  print(bm, beam_output['beam_scores'][0].item() / tokens.shape[-1], tokenizer.decode(tokens, skip_special_tokens=True))"
      ],
      "metadata": {
        "id": "heX5mLxe-s-K",
        "colab": {
          "base_uri": "https://localhost:8080/",
          "height": 466
        },
        "outputId": "8b3f21ec-0718-4298-87be-d5f41a3ed846"
      },
      "execution_count": null,
      "outputs": [
        {
          "output_type": "stream",
          "name": "stdout",
          "text": [
            "Visualization with plot:\n"
          ]
        },
        {
          "output_type": "display_data",
          "data": {
            "text/plain": [
              "<Figure size 640x480 with 1 Axes>"
            ],
            "image/png": "[encoded data removed]"
          },
          "metadata": {}
        }
      ]
    },
    {
      "cell_type": "markdown",
      "source": [
        "## Avoiding Repetition in Beam Search\n",
        "\n",
        "Beam search often results in repetition in the predicted tokens. In the following cell, a score processor called `WordBlock` is passed to `run_beam_search`. At each time step, it reduces the probability for any previously seen word so that it is not generated again.\n",
        "\n",
        "Run the cell to see how the output of beam search changes with and without using `WordBlock`."
      ],
      "metadata": {
        "id": "uX4P6tTmtJ3Q"
      }
    },
    {
      "cell_type": "code",
      "source": [
        "import collections\n",
        "\n",
        "class WordBlock:\n",
        "    def __call__(self, input_ids, scores):\n",
        "        for batch_idx in range(input_ids.shape[0]):\n",
        "            for x in input_ids[batch_idx].tolist():\n",
        "                scores[batch_idx, x] = -1e9\n",
        "        return scores\n",
        "\n",
        "input_text = 'Once upon a time, in a barn near a farm house,'\n",
        "num_beams = 1\n",
        "\n",
        "print('Beam Search')\n",
        "beam_output = run_beam_search(model, tokenizer, input_text, num_beams=num_beams, num_decode_steps=40, score_processors=[])\n",
        "print(tokenizer.decode(beam_output['output_ids'][0], skip_special_tokens=True))\n",
        "\n",
        "print('Beam Search w/ Word Block')\n",
        "beam_output = run_beam_search(model, tokenizer, input_text, num_beams=num_beams, num_decode_steps=40, score_processors=[WordBlock()])\n",
        "print(tokenizer.decode(beam_output['output_ids'][0], skip_special_tokens=True))\n"
      ],
      "metadata": {
        "id": "yTu_HemeLquc",
        "colab": {
          "base_uri": "https://localhost:8080/"
        },
        "outputId": "2d656838-21a4-4449-8249-53757ddf3641"
      },
      "execution_count": null,
      "outputs": [
        {
          "output_type": "stream",
          "name": "stdout",
          "text": [
            "Model predictions:\n",
            "1 -0.9706197796445905 Once upon a time, in a barn near a farm house, a young boy was playing with a stick. He was playing with a stick, and the boy was\n",
            "2 -0.9286185177889738 Once upon a time, in a barn near a farm house, a young boy was playing with a stick. The boy was playing with a stick, and the boy\n",
            "3 -0.9597567933978457 Once upon a time, in a barn near a farm house, a young boy was playing with a stick. The boy, who had been playing with a stick,\n",
            "4 -0.9205130952777285 Once upon a time, in a barn near a farm house, there was a young girl who had been brought up by her mother. She had been brought up by\n",
            "5 -0.9058780092181582 Once upon a time, in a barn near a farm house, there was a man who had been living in the house for a long time. He was a man\n",
            "Beam Search\n",
            "Once upon a time, in a barn near a farm house, a young boy was playing with a stick. He was playing with a stick, and the boy was playing with a stick. The boy was playing with a stick, and the boy was playing with a\n",
            "Beam Search w/ Word Block\n",
            "Once upon a time, in a barn near a farm house, the young girl was playing with her father's dog. She had been told that she would be given to him by his wife and he could take care of it for herself if needed; but when they\n"
          ]
        }
      ]
    },
    {
      "cell_type": "markdown",
      "source": [
        "Even though `WordBlock` avoids generation of seen words, it is not a practical way to prevent repetition in beam search due to the following reasons :-\n",
        "\n",
        "1.   Even though repetition is undesirable sometimes, there are cases where repetition is needed but WordBlock will strictly avoid repetition even in these scenarios. For instance, in the code above that demonstrates WordBlock, the model incorrectly generated \"the young girl\" instead of \"a young girl\" because the article \"a\" is already present in the input. And later, the model does not generate correct pronouns (he instead of she) because the correct pronoun has been generated before and Wordblock penalizes the correct pronoun. This results in less fluent and grammatically incorrect outputs.\n",
        "\n",
        "2.   Incorporating WordBlock into beam search introduces an additional computational cost. The decoder needs to check and apply the penalty for each generated token, which can increase the decoding time.\n",
        "\n",
        "3. WordBlock is sensitive to the penalty value (1e-9 in the code above). Setting a very high penalty excessively discourages repetition and results in ungrammatical and incoherent output. On the other hand, setting a low penalty may have zero impact on preventing repetition.\n",
        "\n",
        "\n"
      ],
      "metadata": {
        "id": "WT0Jv2SBTinm"
      }
    },
    {
      "cell_type": "markdown",
      "source": [
        "## BeamBlock vs WordBlock\n",
        "\n",
        "In the following cell, the previous `WordBlock` example is used to write a new score processor called `BeamBlock`. Instead of uni-grams, `BeamBlock` implementation prevents tri-grams from appearing more than once in the sequence.\n",
        "\n",
        "Note: This technique is called \"beam blocking\" and is described [here](https://arxiv.org/pdf/1705.04304.pdf) (section 2.5). Note that here the output distribution is not re-normalized after masking values, although typically re-normalization is done."
      ],
      "metadata": {
        "id": "U4937n1-t6l3"
      }
    },
    {
      "cell_type": "code",
      "source": [
        "import collections\n",
        "\n",
        "class BeamBlock:\n",
        "    def __call__(self, input_ids, scores):\n",
        "        for batch_idx in range(input_ids.shape[0]):\n",
        "            # WRITE YOUR CODE HERE!\n",
        "            sent = input_ids[batch_idx].tolist()\n",
        "            for i in range(2, len(sent)):\n",
        "                if(sent[i-2]==sent[-2] and sent[i-1]==sent[-1]):\n",
        "                    scores[batch_idx, sent[i]] = -1e9\n",
        "\n",
        "        return scores\n",
        "\n",
        "input_text = 'Once upon a time, in a barn near a farm house,'\n",
        "num_beams = 1\n",
        "\n",
        "print('Beam Search')\n",
        "beam_output = run_beam_search(model, tokenizer, input_text, num_beams=num_beams, num_decode_steps=40, score_processors=[])\n",
        "outText = tokenizer.decode(beam_output['output_ids'][0], skip_special_tokens=True)\n",
        "print(outText[:int(len(outText)/2)], \"\\n\", outText[int(len(outText)/2):])\n",
        "\n",
        "print('Beam Search w/ Beam Block')\n",
        "beam_output = run_beam_search(model, tokenizer, input_text, num_beams=num_beams, num_decode_steps=40, score_processors=[BeamBlock()])\n",
        "outText = tokenizer.decode(beam_output['output_ids'][0], skip_special_tokens=True)\n",
        "print(outText[:int(len(outText)/2)], \"\\n\", outText[int(len(outText)/2):])\n"
      ],
      "metadata": {
        "id": "PTQUGTWgtuBN",
        "colab": {
          "base_uri": "https://localhost:8080/"
        },
        "outputId": "ed313384-1011-4770-a3d1-57c7d1e94ec1"
      },
      "execution_count": null,
      "outputs": [
        {
          "output_type": "stream",
          "name": "stdout",
          "text": [
            "Beam Search\n",
            "Once upon a time, in a barn near a farm house, a young boy was playing with a stick. He was playing with a s \n",
            " tick, and the boy was playing with a stick. The boy was playing with a stick, and the boy was playing with a\n",
            "Beam Search w/ Beam Block\n",
            "Once upon a time, in a barn near a farm house, a young boy was playing with a stick. He was playing on the \n",
            "  stick, and the boy was trying to get a ball. The boy was holding the stick in his hand, and he was trying\n"
          ]
        }
      ]
    }
  ]
}